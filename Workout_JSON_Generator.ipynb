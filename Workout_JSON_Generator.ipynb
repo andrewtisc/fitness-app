{
  "cells": [
    {
      "cell_type": "code",
      "execution_count": null,
      "metadata": {
        "id": "-_df0LbTku35"
      },
      "outputs": [],
      "source": [
        "import json"
      ]
    },
    {
      "cell_type": "code",
      "execution_count": null,
      "metadata": {
        "colab": {
          "base_uri": "https://localhost:8080/"
        },
        "id": "7KOSxb3qrNGD",
        "outputId": "e73c4d05-6099-4a19-94e0-55263838a34c"
      },
      "outputs": [],
      "source": [
        "# This script prompts a user to enter all data for a workout and creates a JSON for testing use\n",
        "# Intended for use in Google Colab\n",
        "workout = {}\n",
        "\n",
        "def getExercise():\n",
        "    exercise = {}\n",
        "    exercise[\"id\"] = getInt(\"Enter the exercise ID (int): \")\n",
        "    exercise[\"exerciseName\"] = input(\"Enter the exercise name (str): \")\n",
        "    exercise[\"sets\"] = []\n",
        "    #exercise[\"sets\"] = int(input(\"Enter the sets (int): \"))\n",
        "    #exercise[\"reps\"] = int(input(\"Enter the reps (int): \"))\n",
        "    #exercise[\"weight\"] = int(input(\"Enter the weight in lbs (int): \"))\n",
        "    sets = getInt(\"Enter the sets (int): \")\n",
        "    reps = getInt(\"Enter the reps (int): \")\n",
        "    weight = getInt(\"Enter the weight in lbs (int): \")\n",
        "    for i in range(sets):\n",
        "      exercise[\"sets\"].append({\"id\": i+1, \"reps\": reps, \"weight\": weight})\n",
        "    return exercise\n",
        "\n",
        "def getInt(prompt):\n",
        "  while True:\n",
        "    try:\n",
        "      i = int(input(prompt))\n",
        "      return i\n",
        "    except:\n",
        "      print(\"Error: not an Int. Try again.\")\n",
        "    "
      ]
    },
    {
      "cell_type": "code",
      "execution_count": null,
      "metadata": {
        "id": "AeQ3QInYrqij"
      },
      "outputs": [],
      "source": [
        "# Prompt user for all workout data\n",
        "workout[\"id\"] = getInt(\"Enter the workout ID (int): \")\n",
        "workout[\"workoutName\"] = input(\"Enter the workout name (str): \")\n",
        "workout[\"exercises\"] = []\n",
        "more_exercises = True\n",
        "while more_exercises:\n",
        "  workout[\"exercises\"].append(getExercise())\n",
        "\n",
        "  more_exercises = (input(\"Add another exercise? (y/n): \") == \"y\")\n",
        "\n",
        "# Create JSON from workout data saved to the content folder in Google Colab\n",
        "\n",
        "filepath = \"workout_\" + str(workout[\"workoutID\"]) + \".json\"\n",
        "with open(filepath, \"w\") as f:\n",
        "  json.dump(workout, f)\n",
        "print(f\"{filepath} saved in 'content' folder.\")"
      ]
    }
  ],
  "metadata": {
    "colab": {
      "provenance": []
    },
    "kernelspec": {
      "display_name": "Python 3",
      "name": "python3"
    },
    "language_info": {
      "name": "python"
    }
  },
  "nbformat": 4,
  "nbformat_minor": 0
}
