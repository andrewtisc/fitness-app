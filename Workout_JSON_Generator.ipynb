{
  "nbformat": 4,
  "nbformat_minor": 0,
  "metadata": {
    "colab": {
      "provenance": []
    },
    "kernelspec": {
      "name": "python3",
      "display_name": "Python 3"
    },
    "language_info": {
      "name": "python"
    }
  },
  "cells": [
    {
      "cell_type": "code",
      "source": [
        "import json"
      ],
      "metadata": {
        "id": "-_df0LbTku35"
      },
      "execution_count": 1,
      "outputs": []
    },
    {
      "cell_type": "code",
      "source": [
        "# This script prompts a user to enter all data for a workout and creates a JSON for testing use\n",
        "# Intended for use in Google Colab\n",
        "workout = {}\n",
        "\n",
        "# Prompt user for all workout data\n",
        "def getExercise():\n",
        "    exercise = {}\n",
        "    exercise[\"exerciseID\"] = int(input(\"Enter the exerciseID (int): \"))\n",
        "    exercise[\"exerciseName\"] = input(\"Enter the exerciseName (str): \")\n",
        "    exercise[\"sets\"] = int(input(\"Enter the sets (int): \"))\n",
        "    exercise[\"reps\"] = int(input(\"Enter the reps (int): \"))\n",
        "    exercise[\"weight\"] = int(input(\"Enter the weight in lbs (int): \"))\n",
        "    return exercise\n",
        "\n",
        "workout[\"workoutID\"] = int(input(\"Enter the workoutID (int): \"))\n",
        "workout[\"workoutName\"] = input(\"Enter the workoutName (str): \")\n",
        "workout[\"exercises\"] = []\n",
        "more_exercises = True\n",
        "while more_exercises:\n",
        "  workout[\"exercises\"].append(getExercise())\n",
        "\n",
        "  more_exercises = (input(\"Add another exercise? (y/n): \") == \"y\")\n",
        "\n",
        "# Create JSON from workout data saved to the content folder in Google Colab\n",
        "\n",
        "filepath = \"workout_\" + str(workout[\"workoutID\"]) + \".json\"\n",
        "with open(filepath, \"w\") as f:\n",
        "  json.dump(workout, f)\n",
        "print(f\"{filepath} saved in 'content' folder.\")"
      ],
      "metadata": {
        "colab": {
          "base_uri": "https://localhost:8080/"
        },
        "id": "7KOSxb3qrNGD",
        "outputId": "bd9c90ce-449f-4992-d003-b1b3c00e7399"
      },
      "execution_count": 6,
      "outputs": [
        {
          "output_type": "stream",
          "name": "stdout",
          "text": [
            "Enter the workoutID (int): 4\n",
            "Enter the workoutName (str): Lower Hypertrophy\n",
            "Enter the exerciseID (int): 1\n",
            "Enter the exerciseName (str): Hack Squat\n",
            "Enter the sets (int): 3\n",
            "Enter the reps (int): 8\n",
            "Enter the weight in lbs (int): 90\n",
            "Add another exercise? (y/n): y\n",
            "Enter the exerciseID (int): 2\n",
            "Enter the exerciseName (str): Barbell Lunge\n",
            "Enter the sets (int): 3\n",
            "Enter the reps (int): 8\n",
            "Enter the weight in lbs (int): 95\n",
            "Add another exercise? (y/n): y\n",
            "Enter the exerciseID (int): 3\n",
            "Enter the exerciseName (str): Leg Extension\n",
            "Enter the sets (int): 3\n",
            "Enter the reps (int): 10\n",
            "Enter the weight in lbs (int): 77\n",
            "Add another exercise? (y/n): y\n",
            "Enter the exerciseID (int): 4\n",
            "Enter the exerciseName (str): Leg Curl\n",
            "Enter the sets (int): 3\n",
            "Enter the reps (int): 12\n",
            "Enter the weight in lbs (int): 143\n",
            "Add another exercise? (y/n): y\n",
            "Enter the exerciseID (int): 5\n",
            "Enter the exerciseName (str): Seated Calf Raise\n",
            "Enter the sets (int): 3\n",
            "Enter the reps (int): 8\n",
            "Enter the weight in lbs (int): 135\n",
            "Add another exercise? (y/n): y\n",
            "Enter the exerciseID (int): 6\n",
            "Enter the exerciseName (str): Calf Press\n",
            "Enter the sets (int): 3\n",
            "Enter the reps (int): 8\n",
            "Enter the weight in lbs (int): 90\n",
            "Add another exercise? (y/n): n\n",
            "workout_4.json saved in 'content' folder.\n"
          ]
        }
      ]
    },
    {
      "cell_type": "code",
      "source": [],
      "metadata": {
        "id": "AeQ3QInYrqij"
      },
      "execution_count": null,
      "outputs": []
    }
  ]
}