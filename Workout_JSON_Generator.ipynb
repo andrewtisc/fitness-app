{
  "nbformat": 4,
  "nbformat_minor": 0,
  "metadata": {
    "colab": {
      "provenance": []
    },
    "kernelspec": {
      "name": "python3",
      "display_name": "Python 3"
    },
    "language_info": {
      "name": "python"
    }
  },
  "cells": [
    {
      "cell_type": "code",
      "source": [
        "import json"
      ],
      "metadata": {
        "id": "-_df0LbTku35"
      },
      "execution_count": null,
      "outputs": []
    },
    {
      "cell_type": "code",
      "source": [
        "# This script prompts a user to enter all data for a workout and creates a JSON for testing use\n",
        "# Intended for use in Google Colab\n",
        "workout = {}\n",
        "\n",
        "# Prompt user for all workout data\n",
        "def getExercise():\n",
        "    exercise = {}\n",
        "    exercise[\"id\"] = int(input(\"Enter the exercise ID (int): \"))\n",
        "    exercise[\"exerciseName\"] = input(\"Enter the exercise name (str): \")\n",
        "    exercise[\"sets\"] = []\n",
        "    #exercise[\"sets\"] = int(input(\"Enter the sets (int): \"))\n",
        "    #exercise[\"reps\"] = int(input(\"Enter the reps (int): \"))\n",
        "    #exercise[\"weight\"] = int(input(\"Enter the weight in lbs (int): \"))\n",
        "    sets = int(input(\"Enter the sets (int): \"))\n",
        "    reps = int(input(\"Enter the reps (int): \"))\n",
        "    weight = int(input(\"Enter the weight in lbs (int): \"))\n",
        "    for i in range(sets):\n",
        "      exercise[\"sets\"].append({\"id\": i+1, \"reps\": reps, \"weight\": weight})\n",
        "    return exercise\n",
        "\n",
        "workout[\"id\"] = int(input(\"Enter the workout ID (int): \"))\n",
        "workout[\"workoutName\"] = input(\"Enter the workout name (str): \")\n",
        "workout[\"exercises\"] = []\n",
        "more_exercises = True\n",
        "while more_exercises:\n",
        "  workout[\"exercises\"].append(getExercise())\n",
        "\n",
        "  more_exercises = (input(\"Add another exercise? (y/n): \") == \"y\")\n",
        "\n",
        "# Create JSON from workout data saved to the content folder in Google Colab\n",
        "\n",
        "filepath = \"workout_\" + str(workout[\"workoutID\"]) + \".json\"\n",
        "with open(filepath, \"w\") as f:\n",
        "  json.dump(workout, f)\n",
        "print(f\"{filepath} saved in 'content' folder.\")"
      ],
      "metadata": {
        "colab": {
          "base_uri": "https://localhost:8080/"
        },
        "id": "7KOSxb3qrNGD",
        "outputId": "e73c4d05-6099-4a19-94e0-55263838a34c"
      },
      "execution_count": null,
      "outputs": [
        {
          "output_type": "stream",
          "name": "stdout",
          "text": [
            "Enter the workoutID (int): 6\n",
            "Enter the workoutName (str): Updated Travel Test\n",
            "Enter the exerciseID (int): 1\n",
            "Enter the exerciseName (str): Bench Press\n",
            "Enter the sets (int): 3\n",
            "Enter the reps (int): 8\n",
            "Enter the weight in lbs (int): 125\n",
            "Add another exercise? (y/n): y\n",
            "Enter the exerciseID (int): 2\n",
            "Enter the exerciseName (str): Bulgarian Split Squat\n",
            "Enter the sets (int): 3\n",
            "Enter the reps (int): 9\n",
            "Enter the weight in lbs (int): 0\n",
            "Add another exercise? (y/n): y\n",
            "Enter the exerciseID (int): 3\n",
            "Enter the exerciseName (str): Dumbell Bicep Curl\n",
            "Enter the sets (int): 3\n",
            "Enter the reps (int): 10\n",
            "Enter the weight in lbs (int): 20\n",
            "Add another exercise? (y/n): n\n",
            "workout_6.json saved in 'content' folder.\n"
          ]
        }
      ]
    },
    {
      "cell_type": "code",
      "source": [],
      "metadata": {
        "id": "AeQ3QInYrqij"
      },
      "execution_count": null,
      "outputs": []
    }
  ]
}